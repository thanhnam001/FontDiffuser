{
 "cells": [
  {
   "cell_type": "code",
   "execution_count": 7,
   "metadata": {},
   "outputs": [],
   "source": [
    "import json\n",
    "from pathlib import Path\n",
    "import os\n",
    "from tqdm import tqdm\n",
    "from shutil import copy2"
   ]
  },
  {
   "cell_type": "code",
   "execution_count": 2,
   "metadata": {},
   "outputs": [],
   "source": [
    "with open('/data/ocr/namvt17/HandwrittenDiffusion/IAM_transcription.json','r') as f:\n",
    "    data = json.load(f)"
   ]
  },
  {
   "cell_type": "code",
   "execution_count": 4,
   "metadata": {},
   "outputs": [
    {
     "data": {
      "text/plain": [
       "44412"
      ]
     },
     "execution_count": 4,
     "metadata": {},
     "output_type": "execute_result"
    }
   ],
   "source": [
    "len(data)"
   ]
  },
  {
   "cell_type": "code",
   "execution_count": 5,
   "metadata": {},
   "outputs": [
    {
     "data": {
      "text/plain": [
       "{'image': 'a03-034-00-00.png', 's_id': '049', 'label': 'Members'}"
      ]
     },
     "execution_count": 5,
     "metadata": {},
     "output_type": "execute_result"
    }
   ],
   "source": [
    "data['0']"
   ]
  },
  {
   "cell_type": "code",
   "execution_count": 11,
   "metadata": {},
   "outputs": [
    {
     "name": "stderr",
     "output_type": "stream",
     "text": [
      "100%|██████████| 44412/44412 [00:08<00:00, 4935.84it/s]\n"
     ]
    }
   ],
   "source": [
    "words = list()\n",
    "# for id, obj in tqdm(data.items()):\n",
    "#     image = obj['image']\n",
    "#     wid = obj['s_id']\n",
    "#     label = obj['label']\n",
    "#     os.makedirs(f'/data/ocr/namvt17/FontDiffuser/iam_data/train/TargetImage/{wid}', exist_ok=True)\n",
    "#     src = f'/data/ocr/namvt17/WordStylist/data/{image}'\n",
    "#     dst = f'/data/ocr/namvt17/FontDiffuser/iam_data/train/TargetImage/{wid}/{wid}+{label}.png'\n",
    "#     copy2(src, dst)\n",
    "#     words.append(label)\n",
    "#     # if id=='2':\n",
    "#     #     break"
   ]
  },
  {
   "cell_type": "code",
   "execution_count": 14,
   "metadata": {},
   "outputs": [],
   "source": [
    "swords = set(words)"
   ]
  },
  {
   "cell_type": "code",
   "execution_count": 16,
   "metadata": {},
   "outputs": [
    {
     "data": {
      "text/plain": [
       "4916"
      ]
     },
     "execution_count": 16,
     "metadata": {},
     "output_type": "execute_result"
    }
   ],
   "source": [
    "len(swords)"
   ]
  },
  {
   "cell_type": "code",
   "execution_count": 28,
   "metadata": {},
   "outputs": [],
   "source": [
    "from PIL import Image, ImageDraw, ImageFont\n",
    "\n",
    "# Define text and font\n",
    "def render_text(text: str,\n",
    "                font_path: str = 'weights/Batang Tebo.otf',\n",
    "                font_size: int = 20,\n",
    "                img_size: tuple[int, int] = (64,256),\n",
    "                background: tuple[int, int, int] = (255, 255, 255)\n",
    "                ):\n",
    "    height, width = img_size\n",
    "    # Create a white image\n",
    "    image = Image.new(\"RGB\", (width, height), background)  # Replace width and height with desired values\n",
    "\n",
    "    # Create a drawing object\n",
    "    draw = ImageDraw.Draw(image)\n",
    "\n",
    "\n",
    "    # Draw the text on the image\n",
    "    font = ImageFont.truetype(font_path, font_size)\n",
    "    bbox = draw.textbbox((0, 0), text, font=font)\n",
    "    x,y,w,h = bbox\n",
    "    X = (width - w)/2\n",
    "    Y = (height - h)/2\n",
    "    # draw.rectangle(bbox, outline='red')\n",
    "\n",
    "    # Define text position (adjust as needed)\n",
    "    text_position = (X, Y)\n",
    "    draw.text(text_position, text, fill=\"black\", font=font)\n",
    "    image = image.convert('L')\n",
    "    return image"
   ]
  },
  {
   "cell_type": "code",
   "execution_count": 45,
   "metadata": {},
   "outputs": [
    {
     "data": {
      "image/jpeg": "[encoded data removed]",
      "image/png": "[encoded data removed]",
      "text/plain": [
       "<PIL.PngImagePlugin.PngImageFile image mode=RGB size=256x64>"
      ]
     },
     "execution_count": 45,
     "metadata": {},
     "output_type": "execute_result"
    }
   ],
   "source": [
    "Image.open('iam_data/train/TargetImage/624/624+affair.png')"
   ]
  },
  {
   "cell_type": "code",
   "execution_count": 50,
   "metadata": {},
   "outputs": [
    {
     "data": {
      "image/jpeg": "[encoded data removed]",
      "image/png": "[encoded data removed]",
      "text/plain": [
       "<PIL.Image.Image image mode=L size=256x64>"
      ]
     },
     "execution_count": 50,
     "metadata": {},
     "output_type": "execute_result"
    }
   ],
   "source": [
    "render_text('affair',font_path='weights/Delistan-nAAm4.ttf',font_size=78)"
   ]
  },
  {
   "cell_type": "code",
   "execution_count": 36,
   "metadata": {},
   "outputs": [
    {
     "name": "stderr",
     "output_type": "stream",
     "text": [
      "100%|██████████| 4916/4916 [00:07<00:00, 696.99it/s]\n"
     ]
    }
   ],
   "source": [
    "for word in tqdm(swords):\n",
    "    img = render_text(word,font_path='weights/Delistan-nAAm4.ttf', font_size=36)\n",
    "    img.save(f'./iam_data/train/ContentImage/Delistan-nAAm4/{word}.jpg')"
   ]
  }
 ],
 "metadata": {
  "kernelspec": {
   "display_name": "namvt17_wordstylist",
   "language": "python",
   "name": "python3"
  },
  "language_info": {
   "codemirror_mode": {
    "name": "ipython",
    "version": 3
   },
   "file_extension": ".py",
   "mimetype": "text/x-python",
   "name": "python",
   "nbconvert_exporter": "python",
   "pygments_lexer": "ipython3",
   "version": "3.10.14"
  }
 },
 "nbformat": 4,
 "nbformat_minor": 2
}
